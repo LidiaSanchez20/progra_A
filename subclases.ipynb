{
 "cells": [
  {
   "cell_type": "markdown",
   "metadata": {},
   "source": [
    "Herencia \n",
    "\n",
    "Proceso donde tenemos una clase madre y todos sus aributos con métodos, se puede llamar en otra subclase con características nuevas sin alterar a la original"
   ]
  },
  {
   "cell_type": "code",
   "execution_count": 19,
   "metadata": {},
   "outputs": [],
   "source": [
    "class Humano:\n",
    "    def __init__(self, nombre, edad, genero):\n",
    "        self.nombre = nombre\n",
    "        self.edad = edad\n",
    "        self.genero = genero\n",
    "\n",
    "    def caract(self):\n",
    "        print(f\"Hola, mi nombre es {self.nombre}, tengo {self.edad} años y soy {self.genero}\")\n",
    "\n",
    "    def saludo(self):\n",
    "        print(\"Hola, soy humano\")"
   ]
  },
  {
   "cell_type": "code",
   "execution_count": 20,
   "metadata": {},
   "outputs": [
    {
     "name": "stdout",
     "output_type": "stream",
     "text": [
      "Hola, mi nombre es Gaby, tengo 18 años y soy Mujer\n",
      "Hola, soy humano\n"
     ]
    }
   ],
   "source": [
    "gaby = Humano(\"Gaby\", 18, \"Mujer\")\n",
    "gaby.caract()\n",
    "gaby.saludo()"
   ]
  },
  {
   "cell_type": "markdown",
   "metadata": {},
   "source": [
    "Clase Hija\n",
    "\n",
    "Esta tiene las características del padre y agrega nuevas funciones con definir en la clase entre paréntesis después del nombre de la clase padre"
   ]
  },
  {
   "cell_type": "code",
   "execution_count": 21,
   "metadata": {},
   "outputs": [],
   "source": [
    "class programador(Humano):\n",
    "    def saludo2(self):\n",
    "        print(\"Hola, soy programador\")"
   ]
  },
  {
   "cell_type": "code",
   "execution_count": 22,
   "metadata": {},
   "outputs": [
    {
     "name": "stdout",
     "output_type": "stream",
     "text": [
      "Hola, mi nombre es Ana, tengo 18 años y soy Mujer\n",
      "Hola, soy humano\n",
      "Hola, soy programador\n"
     ]
    }
   ],
   "source": [
    "ana = programador(\"Ana\", 18, \"Mujer\")\n",
    "ana.caract()\n",
    "ana.saludo()\n",
    "ana.saludo2()"
   ]
  },
  {
   "cell_type": "code",
   "execution_count": 27,
   "metadata": {},
   "outputs": [],
   "source": [
    "class programador(Humano):\n",
    "    def __init__(self, nombre, edad, genero, lenguaje):\n",
    "        super().__init__(nombre, edad, genero)\n",
    "        self.lenguaje = lenguaje\n",
    "    \n",
    "    def saludo2(self):\n",
    "        print(\"Hola, soy programador\")\n",
    "\n",
    "    def accion(self):\n",
    "        print(f\"Yo programo en {self.lenguaje}\")\n"
   ]
  },
  {
   "cell_type": "code",
   "execution_count": 28,
   "metadata": {},
   "outputs": [
    {
     "name": "stdout",
     "output_type": "stream",
     "text": [
      "Hola, mi nombre es Ana, tengo 18 años y soy Mujer\n",
      "Hola, soy humano\n",
      "Hola, soy programador\n",
      "Yo programo en C++\n"
     ]
    }
   ],
   "source": [
    "ana = programador(\"Ana\", 18, \"Mujer\", \"C++\")\n",
    "ana.caract()\n",
    "ana.saludo()\n",
    "ana.saludo2()\n",
    "ana.accion()"
   ]
  },
  {
   "cell_type": "markdown",
   "metadata": {},
   "source": [
    "Ejercicio"
   ]
  },
  {
   "cell_type": "code",
   "execution_count": 29,
   "metadata": {},
   "outputs": [],
   "source": [
    "class Animal:\n",
    "    def __init__(self, nombre, num_patas, color):\n",
    "        self.nombre = nombre\n",
    "        self.num_patas = num_patas\n",
    "        self.color = color\n",
    "    \n",
    "    def desc(self):\n",
    "        print(f\"El animal {self.nombre} tiene {self.num_patas} patas y es de color {self.color}\")       "
   ]
  },
  {
   "cell_type": "code",
   "execution_count": 30,
   "metadata": {},
   "outputs": [],
   "source": [
    "class Aves(Animal):\n",
    "    def __init__(self, nombre, num_patas, color, pico):\n",
    "        super().__init__(nombre, num_patas, color)\n",
    "        self.pico = pico\n",
    "        def saludo(self):\n",
    "            print(f\"Hola, soy un ave y mi pico mide {self.pico}\")"
   ]
  },
  {
   "cell_type": "code",
   "execution_count": 31,
   "metadata": {},
   "outputs": [],
   "source": [
    "class Peces(Animal):\n",
    "    def __init__(self, nombre, num_patas, color, tam):\n",
    "        super().__init__(nombre, num_patas, color)\n",
    "        self.tam = tam\n",
    "        def saludo(self):\n",
    "            print(f\"Hola, soy un pez y mido {self.tam}\")"
   ]
  },
  {
   "cell_type": "code",
   "execution_count": 32,
   "metadata": {},
   "outputs": [],
   "source": [
    "class Mamiferos(Animal):\n",
    "    def __init__(self, nombre, num_patas, color, alimento):\n",
    "        super().__init__(nombre, num_patas, color)\n",
    "        self.alimento = alimento\n",
    "        def saludo(self):\n",
    "            print(f\"Hola, soy un mamífero y como {self.alimento}\")"
   ]
  },
  {
   "cell_type": "code",
   "execution_count": 33,
   "metadata": {},
   "outputs": [],
   "source": [
    "animal1 = Animal(\"Pulpo\", 8, \"Azul\")\n",
    "animal2 = Aves(\"Perico\", 2, \"Verde\", 5)\n",
    "animal3 = Peces(\"Beta\", 0, \"Morado\", 15)\n",
    "animal4 = Mamiferos(\"Girafa\", 4, \"Cafe\", \"Plantas\")"
   ]
  }
 ],
 "metadata": {
  "kernelspec": {
   "display_name": "Python 3",
   "language": "python",
   "name": "python3"
  },
  "language_info": {
   "codemirror_mode": {
    "name": "ipython",
    "version": 3
   },
   "file_extension": ".py",
   "mimetype": "text/x-python",
   "name": "python",
   "nbconvert_exporter": "python",
   "pygments_lexer": "ipython3",
   "version": "3.13.1"
  }
 },
 "nbformat": 4,
 "nbformat_minor": 2
}
